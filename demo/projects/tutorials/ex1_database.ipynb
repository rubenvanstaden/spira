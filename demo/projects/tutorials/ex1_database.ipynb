{
 "cells": [
  {
   "cell_type": "markdown",
   "metadata": {},
   "source": [
    "# Connect to Database\n",
    "\n",
    "One the most powerful functionalities of SPiRA is effectively connecting data to \n",
    "cell instances. This examples shows how data from the defined RDD are connected\n",
    "to a class using parameters. By connecting parameters to a class through a \n",
    "field allows the given data to be intercepted and manipulated before fully \n",
    "committing it to the class instance."
   ]
  },
  {
   "cell_type": "markdown",
   "metadata": {},
   "source": [
    "## Demonstrates\n",
    "\n",
    "1. How to link process data from the RDD to default parameter values.\n",
    "2. How to change parameters when creating an instance.\n",
    "3. How to switch to a different RDD by simply importing a new database file.\n",
    "4. Add documentation to a specific parameter."
   ]
  },
  {
   "cell_type": "code",
   "execution_count": 1,
   "metadata": {},
   "outputs": [
    {
     "name": "stdout",
     "output_type": "stream",
     "text": [
      "\n",
      "---------------------------------------------\n",
      "[RDD] SPiRA-default\n",
      "\n",
      "[SPiRA] Version 0.0.2-Auron - MIT License\n",
      "---------------------------------------------\n"
     ]
    }
   ],
   "source": [
    "import spira\n",
    "from spira import param"
   ]
  },
  {
   "cell_type": "markdown",
   "metadata": {},
   "source": [
    "The Rule Deck Database has to be imported before use. Importing a specific \n",
    "RDD script will initialize and create the data tree. "
   ]
  },
  {
   "cell_type": "code",
   "execution_count": 2,
   "metadata": {},
   "outputs": [],
   "source": [
    "RDD = spira.get_rule_deck()"
   ]
  },
  {
   "cell_type": "markdown",
   "metadata": {},
   "source": [
    "Create a pcell using data from the currently set fabrication process."
   ]
  },
  {
   "cell_type": "code",
   "execution_count": 3,
   "metadata": {},
   "outputs": [
    {
     "name": "stdout",
     "output_type": "stream",
     "text": [
      "[SPiRA: Layer] ('', layer 4, datatype 0)\n",
      "1.5\n"
     ]
    }
   ],
   "source": [
    "class PCell(spira.Cell):\n",
    "\n",
    "    layer = param.LayerField(number=RDD.BAS.LAYER.number, doc='Layer for the first polygon.')\n",
    "    width = param.FloatField(default=RDD.BAS.WIDTH, doc='Box shape width.')\n",
    "\n",
    "pcell = PCell()\n",
    "print(pcell.layer)\n",
    "print(pcell.width)"
   ]
  },
  {
   "cell_type": "markdown",
   "metadata": {},
   "source": [
    "Switch to a different database."
   ]
  },
  {
   "cell_type": "code",
   "execution_count": 4,
   "metadata": {},
   "outputs": [
    {
     "name": "stdout",
     "output_type": "stream",
     "text": [
      "< RDD SPiRA-default>\n",
      "\n",
      "---------------------------------------------\n",
      "[RDD] AiST\n",
      "< RDD AiST>\n"
     ]
    }
   ],
   "source": [
    "print(RDD)\n",
    "from demo.pdks.process.aist_pdk import database\n",
    "print(RDD)"
   ]
  },
  {
   "cell_type": "markdown",
   "metadata": {},
   "source": [
    "Display parameter documentation."
   ]
  },
  {
   "cell_type": "code",
   "execution_count": 5,
   "metadata": {},
   "outputs": [
    {
     "name": "stdout",
     "output_type": "stream",
     "text": [
      "Layer for the first polygon.\n",
      "Box shape width.\n"
     ]
    }
   ],
   "source": [
    "print(PCell.layer.__doc__)\n",
    "print(PCell.width.__doc__)"
   ]
  }
 ],
 "metadata": {
  "kernelspec": {
   "display_name": "Python 3",
   "language": "python",
   "name": "python3"
  },
  "language_info": {
   "codemirror_mode": {
    "name": "ipython",
    "version": 3
   },
   "file_extension": ".py",
   "mimetype": "text/x-python",
   "name": "python",
   "nbconvert_exporter": "python",
   "pygments_lexer": "ipython3",
   "version": "3.7.1"
  }
 },
 "nbformat": 4,
 "nbformat_minor": 2
}
