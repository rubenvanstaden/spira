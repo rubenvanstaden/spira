{
 "cells": [
  {
   "cell_type": "markdown",
   "metadata": {},
   "source": [
    "# Subcells\n",
    "\n",
    "Cell references can be added to a cell using the `SRef` class. Created elementals can \n",
    "also be wrapped with another class and committed to a cell as a subcell."
   ]
  },
  {
   "cell_type": "markdown",
   "metadata": {},
   "source": [
    "## Demonstrates\n",
    "\n",
    "1. How to create subcells in a pcell.\n",
    "2. How to wrap elementals in a different cell what will \n",
    "   merge similar intersecting polygons.\n",
    "\n",
    "The following example creates three polygons and then merges them using \n",
    "the functionality implicit in another defined class."
   ]
  },
  {
   "cell_type": "code",
   "execution_count": 6,
   "metadata": {},
   "outputs": [],
   "source": [
    "import spira\n",
    "from spira import param\n",
    "from spira import shapes\n",
    "\n",
    "RDD = spira.get_rule_deck()"
   ]
  },
  {
   "cell_type": "markdown",
   "metadata": {},
   "source": [
    "Create a cell containing a rectangular polygon."
   ]
  },
  {
   "cell_type": "code",
   "execution_count": 7,
   "metadata": {},
   "outputs": [],
   "source": [
    "class PolygonPCell(spira.Cell):\n",
    "\n",
    "    layer = param.LayerField(number=RDD.BAS.LAYER.number)\n",
    "    width = param.FloatField(default=RDD.BAS.WIDTH)\n",
    "\n",
    "    def create_elementals(self, elems):\n",
    "        p0 = [[[0.3, 0.3], [3.6, 3]],\n",
    "              [[1.45, 2.8], [2.45, 5]],\n",
    "              [[1.25, 4.75], [2.65, 6]]]\n",
    "        for points in p0:\n",
    "            shape = shapes.RectangleShape(\n",
    "                p1=points[0],\n",
    "                p2=points[1],\n",
    "                gdslayer=self.layer\n",
    "            )\n",
    "            ply = spira.Polygons(shape=shape)\n",
    "            elems += ply\n",
    "        return elems"
   ]
  },
  {
   "cell_type": "markdown",
   "metadata": {},
   "source": [
    "Add the polygon as a cell reference."
   ]
  },
  {
   "cell_type": "code",
   "execution_count": 8,
   "metadata": {},
   "outputs": [],
   "source": [
    "class PCell(spira.Cell):\n",
    "\n",
    "    def create_elementals(self, elems):\n",
    "        ply = PolygonPCell()\n",
    "        elems += spira.SRef(ply)\n",
    "        return elems\n",
    "    \n",
    "pcell = PCell()\n",
    "pcell.output()"
   ]
  }
 ],
 "metadata": {
  "kernelspec": {
   "display_name": "Python 3",
   "language": "python",
   "name": "python3"
  },
  "language_info": {
   "codemirror_mode": {
    "name": "ipython",
    "version": 3
   },
   "file_extension": ".py",
   "mimetype": "text/x-python",
   "name": "python",
   "nbconvert_exporter": "python",
   "pygments_lexer": "ipython3",
   "version": "3.7.1"
  }
 },
 "nbformat": 4,
 "nbformat_minor": 2
}
