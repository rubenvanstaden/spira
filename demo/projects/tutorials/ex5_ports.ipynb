{
 "cells": [
  {
   "cell_type": "markdown",
   "metadata": {},
   "source": [
    "# Ports\n",
    "\n",
    "Defining ports in a layout is done using the `create_ports` class method. \n",
    "Ports are objects that connect vertically, such as vias, and terminals \n",
    "are ports that connect horizontally. In this example a basic transmission line \n",
    "is created with two ports connected to the endpoints."
   ]
  },
  {
   "cell_type": "markdown",
   "metadata": {},
   "source": [
    "## Demonstrates\n",
    "\n",
    "1. How ports are added to a cell.\n",
    "2. How terminals are added to a cell.\n",
    "3. Creating a box shape and converting it to a polygon elemental.\n",
    "4. Extend a cell using inheritance.\n",
    "\n",
    "Example `run_ports_1.py` shows how a cell can be extending using inheritance.\n",
    "This is one of the fundamental reasons for implementing the `create_` methods\n",
    "in the SPiRA framework. It allows us to effectively segregate data members."
   ]
  },
  {
   "cell_type": "code",
   "execution_count": 2,
   "metadata": {},
   "outputs": [
    {
     "name": "stdout",
     "output_type": "stream",
     "text": [
      "\n",
      "---------------------------------------------\n",
      "[RDD] SPiRA-default\n",
      "\n",
      "[SPiRA] Version 0.0.2-Auron - MIT License\n",
      "---------------------------------------------\n"
     ]
    }
   ],
   "source": [
    "import spira\n",
    "from spira import param\n",
    "from spira import shapes\n",
    "\n",
    "RDD = spira.get_rule_deck()"
   ]
  },
  {
   "cell_type": "markdown",
   "metadata": {},
   "source": [
    "Create cell containing a box polygon and two terminals."
   ]
  },
  {
   "cell_type": "code",
   "execution_count": 7,
   "metadata": {},
   "outputs": [],
   "source": [
    "class TerminalExample(spira.Cell):\n",
    "\n",
    "    width = param.FloatField(default=10)\n",
    "    height = param.FloatField(default=1)\n",
    "\n",
    "    def create_elementals(self, elems):\n",
    "        shape = shapes.BoxShape(center=(5,0), width=self.width, height=self.height)\n",
    "        elems += spira.Polygons(shape=shape)\n",
    "        return elems\n",
    "\n",
    "    def create_ports(self, ports):\n",
    "        t1 = spira.Term(name='P1', midpoint=(0,0), width=self.height)\n",
    "        ports += t1\n",
    "        ports += spira.Term(name='P2', midpoint=(10,0), width=self.height, orientation=180)\n",
    "        return ports"
   ]
  },
  {
   "cell_type": "markdown",
   "metadata": {},
   "source": [
    "Create cell containing a box polygon and two ports."
   ]
  },
  {
   "cell_type": "code",
   "execution_count": 6,
   "metadata": {},
   "outputs": [],
   "source": [
    "class PortExample(spira.Cell):\n",
    "\n",
    "    width = param.FloatField(default=10)\n",
    "    height = param.FloatField(default=1)\n",
    "\n",
    "    def create_elementals(self, elems):\n",
    "        shape = shapes.BoxShape(center=(5,0), width=self.width, height=self.height)\n",
    "        elems += spira.Polygons(shape=shape)\n",
    "        return elems\n",
    "\n",
    "    def create_ports(self, ports):\n",
    "        p1 = spira.Port(name='P1', midpoint=(0,0))\n",
    "        ports += p1\n",
    "        p2 = spira.Port(name='P2', midpoint=(10,0))\n",
    "        ports += p2\n",
    "        print(p1)\n",
    "        print(p2)\n",
    "        return ports"
   ]
  },
  {
   "cell_type": "markdown",
   "metadata": {},
   "source": [
    "Add to the two cells to a single cell."
   ]
  },
  {
   "cell_type": "code",
   "execution_count": 5,
   "metadata": {},
   "outputs": [
    {
     "name": "stdout",
     "output_type": "stream",
     "text": [
      "[SPiRA: Port] (name P1, number 64, midpoint [0, 0], radius 0.25, orientation 0)\n",
      "[SPiRA: Port] (name P2, number 64, midpoint [10, 0], radius 0.25, orientation 0)\n"
     ]
    }
   ],
   "source": [
    "topcell = spira.Cell('TopCell')\n",
    "\n",
    "t1 = spira.SRef(TerminalExample())\n",
    "p1 = spira.SRef(PortExample(), midpoint=(0, 10))\n",
    "\n",
    "t1.rotate(angle=45)\n",
    "t1.translate(dx=-10, dy=0)\n",
    "t1.reflect()\n",
    "\n",
    "topcell += t1\n",
    "topcell += p1\n",
    "\n",
    "topcell.output()"
   ]
  }
 ],
 "metadata": {
  "kernelspec": {
   "display_name": "Python 3",
   "language": "python",
   "name": "python3"
  },
  "language_info": {
   "codemirror_mode": {
    "name": "ipython",
    "version": 3
   },
   "file_extension": ".py",
   "mimetype": "text/x-python",
   "name": "python",
   "nbconvert_exporter": "python",
   "pygments_lexer": "ipython3",
   "version": "3.7.1"
  }
 },
 "nbformat": 4,
 "nbformat_minor": 2
}
