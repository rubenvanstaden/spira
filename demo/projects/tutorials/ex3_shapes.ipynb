{
 "cells": [
  {
   "cell_type": "markdown",
   "metadata": {},
   "source": [
    "# Shapes\n",
    "\n",
    "In this example a basic arrow shape is created. The shape can \n",
    "be decomposed into a triangle and a box shape."
   ]
  },
  {
   "cell_type": "markdown",
   "metadata": {},
   "source": [
    "## Demonstrates\n",
    "\n",
    "1. How to extend a shape by inheriting and calling `super()`.\n",
    "2. How to move and rotate a shape.\n",
    "3. How to merge the polygons in a shape.\n"
   ]
  },
  {
   "cell_type": "code",
   "execution_count": 7,
   "metadata": {},
   "outputs": [],
   "source": [
    "import spira\n",
    "import numpy as np\n",
    "from spira import param\n",
    "from spira import shapes"
   ]
  },
  {
   "cell_type": "markdown",
   "metadata": {},
   "source": [
    "Create a basic rectangular triangle."
   ]
  },
  {
   "cell_type": "code",
   "execution_count": 8,
   "metadata": {},
   "outputs": [],
   "source": [
    "class BasicTriangle(shapes.Shape):\n",
    "\n",
    "    a = param.FloatField(default=2)\n",
    "    b = param.FloatField(default=0.5)\n",
    "    c = param.FloatField(default=1)\n",
    "\n",
    "    def create_points(self, points):\n",
    "        p1 = [0, 0]\n",
    "        p2 = [p1[0]+self.b, p1[1]]\n",
    "        p3 = [p1[0], p1[1]+self.a]\n",
    "        pts = np.array([p1, p2, p3])\n",
    "        points = [pts]\n",
    "        return points"
   ]
  },
  {
   "cell_type": "markdown",
   "metadata": {},
   "source": [
    "Use two rectangular triangles to create a full triangle."
   ]
  },
  {
   "cell_type": "code",
   "execution_count": 9,
   "metadata": {},
   "outputs": [],
   "source": [
    "class TriangleShape(BasicTriangle):\n",
    "\n",
    "    def create_points(self, points):\n",
    "        points = super().create_points(points)\n",
    "        triangle = BasicTriangle(a=self.a, b=self.b, c=self.c)\n",
    "        triangle.reflect()\n",
    "        points.extend(triangle.points)\n",
    "        return points"
   ]
  },
  {
   "cell_type": "markdown",
   "metadata": {},
   "source": [
    "Create an arrow by extending a triangle with a rectangle."
   ]
  },
  {
   "cell_type": "code",
   "execution_count": 10,
   "metadata": {},
   "outputs": [],
   "source": [
    "class ArrowShape(TriangleShape):\n",
    "\n",
    "    # TODO: Implement point_list properties.\n",
    "    def create_points(self, points):\n",
    "        points = super().create_points(points)\n",
    "        box = shapes.BoxShape(width=self.b/2, height=3*self.c)\n",
    "        box.move(pos=(0,-self.c/2))\n",
    "        points.extend(box.points)\n",
    "        return points"
   ]
  },
  {
   "cell_type": "markdown",
   "metadata": {},
   "source": [
    "Merge the arrow polygons into a single arrow."
   ]
  },
  {
   "cell_type": "code",
   "execution_count": 11,
   "metadata": {},
   "outputs": [],
   "source": [
    "cell = spira.Cell(name='TriangleCell')\n",
    "\n",
    "s1 = ArrowShape()\n",
    "s1.apply_merge\n",
    "p1 = spira.Polygons(shape=s1, gdslayer=spira.Layer(number=13))"
   ]
  },
  {
   "cell_type": "markdown",
   "metadata": {},
   "source": [
    "Create a second rotates and translated arrow."
   ]
  },
  {
   "cell_type": "code",
   "execution_count": 12,
   "metadata": {},
   "outputs": [],
   "source": [
    "s2 = ArrowShape(a=4)\n",
    "s2.apply_merge\n",
    "s2.rotate(angle=180)\n",
    "s2.move(pos=(10,0))\n",
    "p2 = spira.Polygons(shape=s2, gdslayer=spira.Layer(number=15))\n",
    "\n",
    "cell += p1\n",
    "cell += p2\n",
    "\n",
    "cell.output()"
   ]
  }
 ],
 "metadata": {
  "kernelspec": {
   "display_name": "Python 3",
   "language": "python",
   "name": "python3"
  },
  "language_info": {
   "codemirror_mode": {
    "name": "ipython",
    "version": 3
   },
   "file_extension": ".py",
   "mimetype": "text/x-python",
   "name": "python",
   "nbconvert_exporter": "python",
   "pygments_lexer": "ipython3",
   "version": "3.7.1"
  }
 },
 "nbformat": 4,
 "nbformat_minor": 2
}
